{
 "cells": [
  {
   "cell_type": "code",
   "execution_count": 13,
   "metadata": {},
   "outputs": [],
   "source": [
    "####TASK1####\n",
    "def inner_func(f):\n",
    "    memory = {}\n",
    "    def inner_func(*args):\n",
    "        if args not in memory:\n",
    "            memory[args] = f(*args)\n",
    "        return memory[args]\n",
    "    return inner_func\n",
    "\n",
    "@inner_func\n",
    "def my_fact(x, fac=1):\n",
    "    assert x >= 0\n",
    "    if x < 2:\n",
    "        return fac\n",
    "    return my_fact(x-1,  x*fac)"
   ]
  },
  {
   "cell_type": "code",
   "execution_count": 14,
   "metadata": {},
   "outputs": [
    {
     "data": {
      "text/plain": [
       "6"
      ]
     },
     "execution_count": 14,
     "metadata": {},
     "output_type": "execute_result"
    }
   ],
   "source": [
    "my_fact(3)"
   ]
  },
  {
   "cell_type": "code",
   "execution_count": 18,
   "metadata": {},
   "outputs": [],
   "source": [
    "####TASK2####\n",
    "def method(obj):\n",
    "    result = dict()\n",
    "    for method_name in dir(obj):\n",
    "        f = getattr(obj, method_name)\n",
    "        if not method_name[0] ==\"_\":\n",
    "            result.update({method_name: f()})\n",
    "    return result"
   ]
  },
  {
   "cell_type": "code",
   "execution_count": 19,
   "metadata": {},
   "outputs": [
    {
     "name": "stdout",
     "output_type": "stream",
     "text": [
      "{'a': 5}\n"
     ]
    }
   ],
   "source": [
    "class A:\n",
    "    def a(self):\n",
    "        return 5\n",
    "    \n",
    "c = A()\n",
    "print(method(c))"
   ]
  },
  {
   "cell_type": "code",
   "execution_count": null,
   "metadata": {},
   "outputs": [],
   "source": []
  }
 ],
 "metadata": {
  "kernelspec": {
   "display_name": "Python 3",
   "language": "python",
   "name": "python3"
  },
  "language_info": {
   "codemirror_mode": {
    "name": "ipython",
    "version": 3
   },
   "file_extension": ".py",
   "mimetype": "text/x-python",
   "name": "python",
   "nbconvert_exporter": "python",
   "pygments_lexer": "ipython3",
   "version": "3.6.4"
  }
 },
 "nbformat": 4,
 "nbformat_minor": 2
}
